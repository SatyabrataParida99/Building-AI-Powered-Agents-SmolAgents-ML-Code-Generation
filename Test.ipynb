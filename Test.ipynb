{
 "cells": [
  {
   "cell_type": "code",
   "execution_count": 4,
   "metadata": {},
   "outputs": [],
   "source": [
    "# pip install smolagents"
   ]
  },
  {
   "cell_type": "code",
   "execution_count": null,
   "metadata": {},
   "outputs": [],
   "source": [
    "import os\n",
    "os.environ[\"HF_TOKEN\"]= \"Enter HF API key\""
   ]
  },
  {
   "cell_type": "code",
   "execution_count": 6,
   "metadata": {},
   "outputs": [],
   "source": [
    "from smolagents import CodeAgent, DuckDuckGoSearchTool, HfApiModel"
   ]
  },
  {
   "cell_type": "code",
   "execution_count": 7,
   "metadata": {},
   "outputs": [],
   "source": [
    "model = HfApiModel()\n",
    "agent = CodeAgent(tools=[DuckDuckGoSearchTool()], model=model)"
   ]
  },
  {
   "cell_type": "code",
   "execution_count": 8,
   "metadata": {},
   "outputs": [
    {
     "data": {
      "text/html": [
       "<pre style=\"white-space:pre;overflow-x:auto;line-height:normal;font-family:Menlo,'DejaVu Sans Mono',consolas,'Courier New',monospace\"><span style=\"color: #d4b702; text-decoration-color: #d4b702\">╭──────────────────────────────────────────────────── </span><span style=\"color: #d4b702; text-decoration-color: #d4b702; font-weight: bold\">New run</span><span style=\"color: #d4b702; text-decoration-color: #d4b702\"> ────────────────────────────────────────────────────╮</span>\n",
       "<span style=\"color: #d4b702; text-decoration-color: #d4b702\">│</span>                                                                                                                 <span style=\"color: #d4b702; text-decoration-color: #d4b702\">│</span>\n",
       "<span style=\"color: #d4b702; text-decoration-color: #d4b702\">│</span> <span style=\"font-weight: bold\">differential human brian &amp; machine brian</span>                                                                        <span style=\"color: #d4b702; text-decoration-color: #d4b702\">│</span>\n",
       "<span style=\"color: #d4b702; text-decoration-color: #d4b702\">│</span>                                                                                                                 <span style=\"color: #d4b702; text-decoration-color: #d4b702\">│</span>\n",
       "<span style=\"color: #d4b702; text-decoration-color: #d4b702\">╰─ HfApiModel - Qwen/Qwen2.5-Coder-32B-Instruct ──────────────────────────────────────────────────────────────────╯</span>\n",
       "</pre>\n"
      ],
      "text/plain": [
       "\u001b[38;2;212;183;2m╭─\u001b[0m\u001b[38;2;212;183;2m───────────────────────────────────────────────────\u001b[0m\u001b[38;2;212;183;2m \u001b[0m\u001b[1;38;2;212;183;2mNew run\u001b[0m\u001b[38;2;212;183;2m \u001b[0m\u001b[38;2;212;183;2m───────────────────────────────────────────────────\u001b[0m\u001b[38;2;212;183;2m─╮\u001b[0m\n",
       "\u001b[38;2;212;183;2m│\u001b[0m                                                                                                                 \u001b[38;2;212;183;2m│\u001b[0m\n",
       "\u001b[38;2;212;183;2m│\u001b[0m \u001b[1mdifferential human brian & machine brian\u001b[0m                                                                        \u001b[38;2;212;183;2m│\u001b[0m\n",
       "\u001b[38;2;212;183;2m│\u001b[0m                                                                                                                 \u001b[38;2;212;183;2m│\u001b[0m\n",
       "\u001b[38;2;212;183;2m╰─\u001b[0m\u001b[38;2;212;183;2m HfApiModel - Qwen/Qwen2.5-Coder-32B-Instruct \u001b[0m\u001b[38;2;212;183;2m─────────────────────────────────────────────────────────────────\u001b[0m\u001b[38;2;212;183;2m─╯\u001b[0m\n"
      ]
     },
     "metadata": {},
     "output_type": "display_data"
    },
    {
     "data": {
      "text/html": [
       "<pre style=\"white-space:pre;overflow-x:auto;line-height:normal;font-family:Menlo,'DejaVu Sans Mono',consolas,'Courier New',monospace\"><span style=\"color: #d4b702; text-decoration-color: #d4b702\">━━━━━━━━━━━━━━━━━━━━━━━━━━━━━━━━━━━━━━━━━━━━━━━━━━━━━ </span><span style=\"font-weight: bold\">Step </span><span style=\"color: #008080; text-decoration-color: #008080; font-weight: bold\">1</span><span style=\"color: #d4b702; text-decoration-color: #d4b702\"> ━━━━━━━━━━━━━━━━━━━━━━━━━━━━━━━━━━━━━━━━━━━━━━━━━━━━━━</span>\n",
       "</pre>\n"
      ],
      "text/plain": [
       "\u001b[38;2;212;183;2m━━━━━━━━━━━━━━━━━━━━━━━━━━━━━━━━━━━━━━━━━━━━━━━━━━━━━ \u001b[0m\u001b[1mStep \u001b[0m\u001b[1;36m1\u001b[0m\u001b[38;2;212;183;2m ━━━━━━━━━━━━━━━━━━━━━━━━━━━━━━━━━━━━━━━━━━━━━━━━━━━━━━\u001b[0m\n"
      ]
     },
     "metadata": {},
     "output_type": "display_data"
    },
    {
     "data": {
      "text/html": [
       "<pre style=\"white-space:pre;overflow-x:auto;line-height:normal;font-family:Menlo,'DejaVu Sans Mono',consolas,'Courier New',monospace\"> ─ <span style=\"font-weight: bold\">Executing parsed code:</span> ──────────────────────────────────────────────────────────────────────────────────────── \n",
       "  <span style=\"color: #f8f8f2; text-decoration-color: #f8f8f2; background-color: #272822\">differences </span><span style=\"color: #f92672; text-decoration-color: #f92672; background-color: #272822\">=</span><span style=\"color: #f8f8f2; text-decoration-color: #f8f8f2; background-color: #272822\"> web_search(query</span><span style=\"color: #f92672; text-decoration-color: #f92672; background-color: #272822\">=</span><span style=\"color: #e6db74; text-decoration-color: #e6db74; background-color: #272822\">\"differences between human brain and machine brain\"</span><span style=\"color: #f8f8f2; text-decoration-color: #f8f8f2; background-color: #272822\">)</span><span style=\"background-color: #272822\">                            </span>  \n",
       "  <span style=\"color: #f8f8f2; text-decoration-color: #f8f8f2; background-color: #272822\">print(differences)</span><span style=\"background-color: #272822\">                                                                                             </span>  \n",
       " ───────────────────────────────────────────────────────────────────────────────────────────────────────────────── \n",
       "</pre>\n"
      ],
      "text/plain": [
       " ─ \u001b[1mExecuting parsed code:\u001b[0m ──────────────────────────────────────────────────────────────────────────────────────── \n",
       "  \u001b[38;2;248;248;242;48;2;39;40;34mdifferences\u001b[0m\u001b[38;2;248;248;242;48;2;39;40;34m \u001b[0m\u001b[38;2;249;38;114;48;2;39;40;34m=\u001b[0m\u001b[38;2;248;248;242;48;2;39;40;34m \u001b[0m\u001b[38;2;248;248;242;48;2;39;40;34mweb_search\u001b[0m\u001b[38;2;248;248;242;48;2;39;40;34m(\u001b[0m\u001b[38;2;248;248;242;48;2;39;40;34mquery\u001b[0m\u001b[38;2;249;38;114;48;2;39;40;34m=\u001b[0m\u001b[38;2;230;219;116;48;2;39;40;34m\"\u001b[0m\u001b[38;2;230;219;116;48;2;39;40;34mdifferences between human brain and machine brain\u001b[0m\u001b[38;2;230;219;116;48;2;39;40;34m\"\u001b[0m\u001b[38;2;248;248;242;48;2;39;40;34m)\u001b[0m\u001b[48;2;39;40;34m                            \u001b[0m  \n",
       "  \u001b[38;2;248;248;242;48;2;39;40;34mprint\u001b[0m\u001b[38;2;248;248;242;48;2;39;40;34m(\u001b[0m\u001b[38;2;248;248;242;48;2;39;40;34mdifferences\u001b[0m\u001b[38;2;248;248;242;48;2;39;40;34m)\u001b[0m\u001b[48;2;39;40;34m                                                                                             \u001b[0m  \n",
       " ───────────────────────────────────────────────────────────────────────────────────────────────────────────────── \n"
      ]
     },
     "metadata": {},
     "output_type": "display_data"
    },
    {
     "data": {
      "text/html": [
       "<pre style=\"white-space:pre;overflow-x:auto;line-height:normal;font-family:Menlo,'DejaVu Sans Mono',consolas,'Courier New',monospace\"><span style=\"font-weight: bold\">Execution logs:</span>\n",
       "## Search Results\n",
       "\n",
       "[10 Important Differences Between Brains and \n",
       "Computers](https://scienceblogs.com/developingintelligence/2007/03/27/why-the-brain-is-not-like-a-co)\n",
       "There are much more obvious differences between a brain and todays computers: The microprocessor is square, the \n",
       "brain is roughly round. The computer run on electricity, the brain runs on icky ...\n",
       "\n",
       "[How does the human brain compare to a computer? - \n",
       "Crucial](https://www.crucial.com/blog/technology/how-does-the-human-brain-compare-to-a-computer)\n",
       "A typical computer runs on about 100 watts of power. A human brain, on the other hand, requires roughly 10 watts. \n",
       "That's right, your brain is ten times more energy-efficient than a computer. The brain requires less power than a \n",
       "lightbulb. We may not be the brightest bulbs in the box, but then again, we don't have to be. Advantage: Human \n",
       "Brain\n",
       "\n",
       "[Computers vs. Human Brain - What's the Difference? | This vs. \n",
       "That](https://thisvsthat.io/computers-vs-human-brain)\n",
       "In this article, we will explore the similarities and differences between these two systems. Processing Power. One \n",
       "of the most obvious differences between computers and the human brain is their processing power. Computers are \n",
       "capable of performing complex calculations and processing vast amounts of data at incredible speeds.\n",
       "\n",
       "[Difference Between Brain and Computer (with Comparison Chart) - Tech \n",
       "...](https://techdifferences.com/difference-between-brain-and-computer.html)\n",
       "The prior difference between the brain and the computer is that the brain can work without data, but computers \n",
       "require a minimum amount of data. A brain is an innovative and creative organ, but the computer cannot create a new\n",
       "thing without any support, it would need some program or software to do this. ... A human brain is a very \n",
       "sophisticated ...\n",
       "\n",
       "[Computers and Human Brains: Parallels and Possibilities](https://neurolaunch.com/computers-brain/)\n",
       "For all the impressive similarities between computers and the human brain, there are some fundamental differences \n",
       "that highlight the unique strengths of biological intelligence. These differences not only underscore the \n",
       "remarkable nature of the human brain but also point to areas where artificial intelligence still has room for \n",
       "growth.\n",
       "\n",
       "[AI and the Human Brain: How Similar Are They? - Discover \n",
       "Magazine](https://www.discovermagazine.com/technology/ai-and-the-human-brain-how-similar-are-they)\n",
       "In the prologue to his 2020 book, The Alignment Problem: Machine Learning and Human Values, Brian Christian tells \n",
       "the story of the beginnings of the idea of artificial neural networks.In 1942, Walter Pitts, a teenage \n",
       "mathematician and logician, and Warren McCulloch, a mid-career neurologist, teamed up to unravel the mysteries of \n",
       "how the brain worked.\n",
       "\n",
       "[Computers and the Human Brain - Howard Brain Sciences \n",
       "Foundation](https://brainsciences.org/computers-and-the-human-brain/)\n",
       "The human brain is commonly described in terms of computing. One might think computers outperform humans due to the\n",
       "speed and ease with which they handle large quantities of data. ... One critical difference between humans and \n",
       "computers is how they are designed to problem-solve. Most AI uses a \"brute force\" method, solving as many ...\n",
       "\n",
       "[The Brain-Computer Debate: Is the Human Brain Like a \n",
       "Computer?](https://www.greymattersjournalvc.org/issue-6-articles/blog-post-title-four-s56yt)\n",
       "A fundamental difference between the human brain and a device — such as a digital computer — is that the brain's \n",
       "functioning is inherently dependent on its attachment to and integration with the body. This theory, known as \n",
       "embodied cognition, posits that cognition is shaped by the physiology of the entire organism [9].\n",
       "\n",
       "[Difference between AI and Human Brain - Understanding the \n",
       "Contrast](https://aiforsocialgood.ca/blog/the-distinction-between-artificial-intelligence-and-human-brain)\n",
       "The Difference between AI and Human Brain in Intuition and Gut Feeling. One of the key differences between AI and \n",
       "the human brain in terms of intuition and gut feeling lies in the learning process. AI systems are trained using \n",
       "large datasets and algorithms to recognize patterns and make predictions based on statistical analysis.\n",
       "\n",
       "[AI vs. Human Brain: Similarities &amp; Differences - Advances in \n",
       "AI](https://advancesinai.com/ai-vs-the-human-brain-exploring-the-differences-and-similarities/)\n",
       "While Human Intelligence aims to adapt to new environments by utilizing a combination of different cognitive \n",
       "processes, including reasoning, memory, perception, and emotion. The human brain's ability to learn, evolve, and \n",
       "adapt to new situations is unmatched, allowing us to perform complex tasks that machines cannot replicate. On the \n",
       "other ...\n",
       "\n",
       "Out: None\n",
       "</pre>\n"
      ],
      "text/plain": [
       "\u001b[1mExecution logs:\u001b[0m\n",
       "## Search Results\n",
       "\n",
       "[10 Important Differences Between Brains and \n",
       "Computers](https://scienceblogs.com/developingintelligence/2007/03/27/why-the-brain-is-not-like-a-co)\n",
       "There are much more obvious differences between a brain and todays computers: The microprocessor is square, the \n",
       "brain is roughly round. The computer run on electricity, the brain runs on icky ...\n",
       "\n",
       "[How does the human brain compare to a computer? - \n",
       "Crucial](https://www.crucial.com/blog/technology/how-does-the-human-brain-compare-to-a-computer)\n",
       "A typical computer runs on about 100 watts of power. A human brain, on the other hand, requires roughly 10 watts. \n",
       "That's right, your brain is ten times more energy-efficient than a computer. The brain requires less power than a \n",
       "lightbulb. We may not be the brightest bulbs in the box, but then again, we don't have to be. Advantage: Human \n",
       "Brain\n",
       "\n",
       "[Computers vs. Human Brain - What's the Difference? | This vs. \n",
       "That](https://thisvsthat.io/computers-vs-human-brain)\n",
       "In this article, we will explore the similarities and differences between these two systems. Processing Power. One \n",
       "of the most obvious differences between computers and the human brain is their processing power. Computers are \n",
       "capable of performing complex calculations and processing vast amounts of data at incredible speeds.\n",
       "\n",
       "[Difference Between Brain and Computer (with Comparison Chart) - Tech \n",
       "...](https://techdifferences.com/difference-between-brain-and-computer.html)\n",
       "The prior difference between the brain and the computer is that the brain can work without data, but computers \n",
       "require a minimum amount of data. A brain is an innovative and creative organ, but the computer cannot create a new\n",
       "thing without any support, it would need some program or software to do this. ... A human brain is a very \n",
       "sophisticated ...\n",
       "\n",
       "[Computers and Human Brains: Parallels and Possibilities](https://neurolaunch.com/computers-brain/)\n",
       "For all the impressive similarities between computers and the human brain, there are some fundamental differences \n",
       "that highlight the unique strengths of biological intelligence. These differences not only underscore the \n",
       "remarkable nature of the human brain but also point to areas where artificial intelligence still has room for \n",
       "growth.\n",
       "\n",
       "[AI and the Human Brain: How Similar Are They? - Discover \n",
       "Magazine](https://www.discovermagazine.com/technology/ai-and-the-human-brain-how-similar-are-they)\n",
       "In the prologue to his 2020 book, The Alignment Problem: Machine Learning and Human Values, Brian Christian tells \n",
       "the story of the beginnings of the idea of artificial neural networks.In 1942, Walter Pitts, a teenage \n",
       "mathematician and logician, and Warren McCulloch, a mid-career neurologist, teamed up to unravel the mysteries of \n",
       "how the brain worked.\n",
       "\n",
       "[Computers and the Human Brain - Howard Brain Sciences \n",
       "Foundation](https://brainsciences.org/computers-and-the-human-brain/)\n",
       "The human brain is commonly described in terms of computing. One might think computers outperform humans due to the\n",
       "speed and ease with which they handle large quantities of data. ... One critical difference between humans and \n",
       "computers is how they are designed to problem-solve. Most AI uses a \"brute force\" method, solving as many ...\n",
       "\n",
       "[The Brain-Computer Debate: Is the Human Brain Like a \n",
       "Computer?](https://www.greymattersjournalvc.org/issue-6-articles/blog-post-title-four-s56yt)\n",
       "A fundamental difference between the human brain and a device — such as a digital computer — is that the brain's \n",
       "functioning is inherently dependent on its attachment to and integration with the body. This theory, known as \n",
       "embodied cognition, posits that cognition is shaped by the physiology of the entire organism [9].\n",
       "\n",
       "[Difference between AI and Human Brain - Understanding the \n",
       "Contrast](https://aiforsocialgood.ca/blog/the-distinction-between-artificial-intelligence-and-human-brain)\n",
       "The Difference between AI and Human Brain in Intuition and Gut Feeling. One of the key differences between AI and \n",
       "the human brain in terms of intuition and gut feeling lies in the learning process. AI systems are trained using \n",
       "large datasets and algorithms to recognize patterns and make predictions based on statistical analysis.\n",
       "\n",
       "[AI vs. Human Brain: Similarities & Differences - Advances in \n",
       "AI](https://advancesinai.com/ai-vs-the-human-brain-exploring-the-differences-and-similarities/)\n",
       "While Human Intelligence aims to adapt to new environments by utilizing a combination of different cognitive \n",
       "processes, including reasoning, memory, perception, and emotion. The human brain's ability to learn, evolve, and \n",
       "adapt to new situations is unmatched, allowing us to perform complex tasks that machines cannot replicate. On the \n",
       "other ...\n",
       "\n",
       "Out: None\n"
      ]
     },
     "metadata": {},
     "output_type": "display_data"
    },
    {
     "data": {
      "text/html": [
       "<pre style=\"white-space:pre;overflow-x:auto;line-height:normal;font-family:Menlo,'DejaVu Sans Mono',consolas,'Courier New',monospace\"><span style=\"color: #7f7f7f; text-decoration-color: #7f7f7f\">[Step 1: Duration 15.73 seconds| Input tokens: 2,079 | Output tokens: 75]</span>\n",
       "</pre>\n"
      ],
      "text/plain": [
       "\u001b[2m[Step 1: Duration 15.73 seconds| Input tokens: 2,079 | Output tokens: 75]\u001b[0m\n"
      ]
     },
     "metadata": {},
     "output_type": "display_data"
    },
    {
     "data": {
      "text/html": [
       "<pre style=\"white-space:pre;overflow-x:auto;line-height:normal;font-family:Menlo,'DejaVu Sans Mono',consolas,'Courier New',monospace\"><span style=\"color: #d4b702; text-decoration-color: #d4b702\">━━━━━━━━━━━━━━━━━━━━━━━━━━━━━━━━━━━━━━━━━━━━━━━━━━━━━ </span><span style=\"font-weight: bold\">Step </span><span style=\"color: #008080; text-decoration-color: #008080; font-weight: bold\">2</span><span style=\"color: #d4b702; text-decoration-color: #d4b702\"> ━━━━━━━━━━━━━━━━━━━━━━━━━━━━━━━━━━━━━━━━━━━━━━━━━━━━━━</span>\n",
       "</pre>\n"
      ],
      "text/plain": [
       "\u001b[38;2;212;183;2m━━━━━━━━━━━━━━━━━━━━━━━━━━━━━━━━━━━━━━━━━━━━━━━━━━━━━ \u001b[0m\u001b[1mStep \u001b[0m\u001b[1;36m2\u001b[0m\u001b[38;2;212;183;2m ━━━━━━━━━━━━━━━━━━━━━━━━━━━━━━━━━━━━━━━━━━━━━━━━━━━━━━\u001b[0m\n"
      ]
     },
     "metadata": {},
     "output_type": "display_data"
    },
    {
     "data": {
      "text/html": [
       "<pre style=\"white-space:pre;overflow-x:auto;line-height:normal;font-family:Menlo,'DejaVu Sans Mono',consolas,'Courier New',monospace\"> ─ <span style=\"font-weight: bold\">Executing parsed code:</span> ──────────────────────────────────────────────────────────────────────────────────────── \n",
       "  <span style=\"color: #f8f8f2; text-decoration-color: #f8f8f2; background-color: #272822\">differences </span><span style=\"color: #f92672; text-decoration-color: #f92672; background-color: #272822\">=</span><span style=\"color: #f8f8f2; text-decoration-color: #f8f8f2; background-color: #272822\"> </span><span style=\"color: #e6db74; text-decoration-color: #e6db74; background-color: #272822\">\"The human brain and machine brain (AI) differ in several key aspects: energy efficiency, </span><span style=\"background-color: #272822\">       </span>  \n",
       "  <span style=\"color: #e6db74; text-decoration-color: #e6db74; background-color: #272822\">adaptability and learning, creativity and intuition, embodied cognition, data handling, and processing power.\"</span><span style=\"background-color: #272822\"> </span>  \n",
       "  <span style=\"color: #f8f8f2; text-decoration-color: #f8f8f2; background-color: #272822\">final_answer(differences)</span><span style=\"background-color: #272822\">                                                                                      </span>  \n",
       " ───────────────────────────────────────────────────────────────────────────────────────────────────────────────── \n",
       "</pre>\n"
      ],
      "text/plain": [
       " ─ \u001b[1mExecuting parsed code:\u001b[0m ──────────────────────────────────────────────────────────────────────────────────────── \n",
       "  \u001b[38;2;248;248;242;48;2;39;40;34mdifferences\u001b[0m\u001b[38;2;248;248;242;48;2;39;40;34m \u001b[0m\u001b[38;2;249;38;114;48;2;39;40;34m=\u001b[0m\u001b[38;2;248;248;242;48;2;39;40;34m \u001b[0m\u001b[38;2;230;219;116;48;2;39;40;34m\"\u001b[0m\u001b[38;2;230;219;116;48;2;39;40;34mThe human brain and machine brain (AI) differ in several key aspects: energy efficiency, \u001b[0m\u001b[48;2;39;40;34m       \u001b[0m  \n",
       "  \u001b[38;2;230;219;116;48;2;39;40;34madaptability and learning, creativity and intuition, embodied cognition, data handling, and processing power.\u001b[0m\u001b[38;2;230;219;116;48;2;39;40;34m\"\u001b[0m\u001b[48;2;39;40;34m \u001b[0m  \n",
       "  \u001b[38;2;248;248;242;48;2;39;40;34mfinal_answer\u001b[0m\u001b[38;2;248;248;242;48;2;39;40;34m(\u001b[0m\u001b[38;2;248;248;242;48;2;39;40;34mdifferences\u001b[0m\u001b[38;2;248;248;242;48;2;39;40;34m)\u001b[0m\u001b[48;2;39;40;34m                                                                                      \u001b[0m  \n",
       " ───────────────────────────────────────────────────────────────────────────────────────────────────────────────── \n"
      ]
     },
     "metadata": {},
     "output_type": "display_data"
    },
    {
     "data": {
      "text/html": [
       "<pre style=\"white-space:pre;overflow-x:auto;line-height:normal;font-family:Menlo,'DejaVu Sans Mono',consolas,'Courier New',monospace\"><span style=\"color: #d4b702; text-decoration-color: #d4b702; font-weight: bold\">Out - Final answer: The human brain and machine brain (AI) differ in several key aspects: energy efficiency, </span>\n",
       "<span style=\"color: #d4b702; text-decoration-color: #d4b702; font-weight: bold\">adaptability and learning, creativity and intuition, embodied cognition, data handling, and processing power.</span>\n",
       "</pre>\n"
      ],
      "text/plain": [
       "\u001b[1;38;2;212;183;2mOut - Final answer: The human brain and machine brain (AI) differ in several key aspects: energy efficiency, \u001b[0m\n",
       "\u001b[1;38;2;212;183;2madaptability and learning, creativity and intuition, embodied cognition, data handling, and processing power.\u001b[0m\n"
      ]
     },
     "metadata": {},
     "output_type": "display_data"
    },
    {
     "data": {
      "text/html": [
       "<pre style=\"white-space:pre;overflow-x:auto;line-height:normal;font-family:Menlo,'DejaVu Sans Mono',consolas,'Courier New',monospace\"><span style=\"color: #7f7f7f; text-decoration-color: #7f7f7f\">[Step 2: Duration 18.70 seconds| Input tokens: 5,307 | Output tokens: 406]</span>\n",
       "</pre>\n"
      ],
      "text/plain": [
       "\u001b[2m[Step 2: Duration 18.70 seconds| Input tokens: 5,307 | Output tokens: 406]\u001b[0m\n"
      ]
     },
     "metadata": {},
     "output_type": "display_data"
    },
    {
     "data": {
      "text/plain": [
       "'The human brain and machine brain (AI) differ in several key aspects: energy efficiency, adaptability and learning, creativity and intuition, embodied cognition, data handling, and processing power.'"
      ]
     },
     "execution_count": 8,
     "metadata": {},
     "output_type": "execute_result"
    }
   ],
   "source": [
    "agent.run('differential human brian & machine brian')"
   ]
  },
  {
   "cell_type": "code",
   "execution_count": 9,
   "metadata": {},
   "outputs": [],
   "source": [
    "from smolagents import ToolCallingAgent"
   ]
  },
  {
   "cell_type": "code",
   "execution_count": 10,
   "metadata": {},
   "outputs": [],
   "source": [
    "tool_agent = ToolCallingAgent(tools=[DuckDuckGoSearchTool()], model = model)"
   ]
  },
  {
   "cell_type": "code",
   "execution_count": 11,
   "metadata": {},
   "outputs": [
    {
     "data": {
      "text/html": [
       "<pre style=\"white-space:pre;overflow-x:auto;line-height:normal;font-family:Menlo,'DejaVu Sans Mono',consolas,'Courier New',monospace\"><span style=\"color: #d4b702; text-decoration-color: #d4b702\">╭──────────────────────────────────────────────────── </span><span style=\"color: #d4b702; text-decoration-color: #d4b702; font-weight: bold\">New run</span><span style=\"color: #d4b702; text-decoration-color: #d4b702\"> ────────────────────────────────────────────────────╮</span>\n",
       "<span style=\"color: #d4b702; text-decoration-color: #d4b702\">│</span>                                                                                                                 <span style=\"color: #d4b702; text-decoration-color: #d4b702\">│</span>\n",
       "<span style=\"color: #d4b702; text-decoration-color: #d4b702\">│</span> <span style=\"font-weight: bold\">agentic job market in 2025</span>                                                                                      <span style=\"color: #d4b702; text-decoration-color: #d4b702\">│</span>\n",
       "<span style=\"color: #d4b702; text-decoration-color: #d4b702\">│</span>                                                                                                                 <span style=\"color: #d4b702; text-decoration-color: #d4b702\">│</span>\n",
       "<span style=\"color: #d4b702; text-decoration-color: #d4b702\">╰─ HfApiModel - Qwen/Qwen2.5-Coder-32B-Instruct ──────────────────────────────────────────────────────────────────╯</span>\n",
       "</pre>\n"
      ],
      "text/plain": [
       "\u001b[38;2;212;183;2m╭─\u001b[0m\u001b[38;2;212;183;2m───────────────────────────────────────────────────\u001b[0m\u001b[38;2;212;183;2m \u001b[0m\u001b[1;38;2;212;183;2mNew run\u001b[0m\u001b[38;2;212;183;2m \u001b[0m\u001b[38;2;212;183;2m───────────────────────────────────────────────────\u001b[0m\u001b[38;2;212;183;2m─╮\u001b[0m\n",
       "\u001b[38;2;212;183;2m│\u001b[0m                                                                                                                 \u001b[38;2;212;183;2m│\u001b[0m\n",
       "\u001b[38;2;212;183;2m│\u001b[0m \u001b[1magentic job market in 2025\u001b[0m                                                                                      \u001b[38;2;212;183;2m│\u001b[0m\n",
       "\u001b[38;2;212;183;2m│\u001b[0m                                                                                                                 \u001b[38;2;212;183;2m│\u001b[0m\n",
       "\u001b[38;2;212;183;2m╰─\u001b[0m\u001b[38;2;212;183;2m HfApiModel - Qwen/Qwen2.5-Coder-32B-Instruct \u001b[0m\u001b[38;2;212;183;2m─────────────────────────────────────────────────────────────────\u001b[0m\u001b[38;2;212;183;2m─╯\u001b[0m\n"
      ]
     },
     "metadata": {},
     "output_type": "display_data"
    },
    {
     "data": {
      "text/html": [
       "<pre style=\"white-space:pre;overflow-x:auto;line-height:normal;font-family:Menlo,'DejaVu Sans Mono',consolas,'Courier New',monospace\"><span style=\"color: #d4b702; text-decoration-color: #d4b702\">━━━━━━━━━━━━━━━━━━━━━━━━━━━━━━━━━━━━━━━━━━━━━━━━━━━━━ </span><span style=\"font-weight: bold\">Step </span><span style=\"color: #008080; text-decoration-color: #008080; font-weight: bold\">1</span><span style=\"color: #d4b702; text-decoration-color: #d4b702\"> ━━━━━━━━━━━━━━━━━━━━━━━━━━━━━━━━━━━━━━━━━━━━━━━━━━━━━━</span>\n",
       "</pre>\n"
      ],
      "text/plain": [
       "\u001b[38;2;212;183;2m━━━━━━━━━━━━━━━━━━━━━━━━━━━━━━━━━━━━━━━━━━━━━━━━━━━━━ \u001b[0m\u001b[1mStep \u001b[0m\u001b[1;36m1\u001b[0m\u001b[38;2;212;183;2m ━━━━━━━━━━━━━━━━━━━━━━━━━━━━━━━━━━━━━━━━━━━━━━━━━━━━━━\u001b[0m\n"
      ]
     },
     "metadata": {},
     "output_type": "display_data"
    },
    {
     "data": {
      "text/html": [
       "<pre style=\"white-space:pre;overflow-x:auto;line-height:normal;font-family:Menlo,'DejaVu Sans Mono',consolas,'Courier New',monospace\">╭─────────────────────────────────────────────────────────────────────────────────────────────────────────────────╮\n",
       "│ Calling tool: 'web_search' with arguments: {'query': 'agentic job market in 2025'}                              │\n",
       "╰─────────────────────────────────────────────────────────────────────────────────────────────────────────────────╯\n",
       "</pre>\n"
      ],
      "text/plain": [
       "╭─────────────────────────────────────────────────────────────────────────────────────────────────────────────────╮\n",
       "│ Calling tool: 'web_search' with arguments: {'query': 'agentic job market in 2025'}                              │\n",
       "╰─────────────────────────────────────────────────────────────────────────────────────────────────────────────────╯\n"
      ]
     },
     "metadata": {},
     "output_type": "display_data"
    },
    {
     "data": {
      "text/html": [
       "<pre style=\"white-space:pre;overflow-x:auto;line-height:normal;font-family:Menlo,'DejaVu Sans Mono',consolas,'Courier New',monospace\">Observations: ## Search Results\n",
       "\n",
       "|The Effect of AI Agents on the Job Market in \n",
       "<span style=\"color: #008080; text-decoration-color: #008080; font-weight: bold\">2025</span><span style=\"font-weight: bold\">](</span><span style=\"color: #0000ff; text-decoration-color: #0000ff; text-decoration: underline\">https://www.analyticsvidhya.com/blog/2025/01/effect-of-ai-agents-in-the-job-market/)</span>\n",
       "In <span style=\"color: #008080; text-decoration-color: #008080; font-weight: bold\">2025</span>, AI agents will be a major force in reshaping the job market and transforming industries. They will create \n",
       "new opportunities while rendering certain jobs obsolete. The adoption of AI will accelerate, with businesses \n",
       "leveraging AI agents for a range of functions, from customer service and HR to data analysis and beyond.\n",
       "\n",
       "|AI Agents in <span style=\"color: #008080; text-decoration-color: #008080; font-weight: bold\">2025</span>: Expectations vs. Reality - \n",
       "IBM<span style=\"font-weight: bold\">](</span><span style=\"color: #0000ff; text-decoration-color: #0000ff; text-decoration: underline\">https://www.ibm.com/think/insights/ai-agents-2025-expectations-vs-reality)</span>\n",
       "<span style=\"color: #008000; text-decoration-color: #008000\">\"More and better agents\"</span> are on the way, predicts Time. <span style=\"color: #008080; text-decoration-color: #008080; font-weight: bold\">1</span> <span style=\"color: #008000; text-decoration-color: #008000\">\"Autonomous 'agents' and profitability are likely to </span>\n",
       "<span style=\"color: #008000; text-decoration-color: #008000\">dominate the artificial intelligence agenda,\"</span> reports Reuters. <span style=\"color: #008080; text-decoration-color: #008080; font-weight: bold\">2</span> <span style=\"color: #008000; text-decoration-color: #008000\">\"The age of agentic AI has arrived,\"</span> promises \n",
       "Forbes, in response to a claim from Nvidia's Jensen Huang. <span style=\"color: #008080; text-decoration-color: #008080; font-weight: bold\">3</span> Tech media is awash with assurances that our lives are\n",
       "on the verge of a total transformation.\n",
       "\n",
       "|<span style=\"color: #008080; text-decoration-color: #008080; font-weight: bold\">2025</span> will be the year of AI agents - \n",
       "TechTarget<span style=\"font-weight: bold\">](</span><span style=\"color: #0000ff; text-decoration-color: #0000ff; text-decoration: underline\">https://www.techtarget.com/searchEnterpriseAI/feature/Next-year-will-be-the-year-of-AI-agents)</span>\n",
       "Agentic Challenges in <span style=\"color: #008080; text-decoration-color: #008080; font-weight: bold\">2025</span>. Similar to other AI technologies, AI agents will face challenges in <span style=\"color: #008080; text-decoration-color: #008080; font-weight: bold\">2025</span>. One is data. \n",
       "Because data is usually spread across different sources and processes, it might be challenging to give AI agents \n",
       "the data they need to perform the tasks they're being asked to do, Greene said.\n",
       "\n",
       "|How Agentic AI Will Redefine Jobs? |<span style=\"color: #008080; text-decoration-color: #008080; font-weight: bold\">2025</span><span style=\"font-weight: bold\">]</span> - \n",
       "DigitalDefynd<span style=\"font-weight: bold\">](</span><span style=\"color: #0000ff; text-decoration-color: #0000ff; text-decoration: underline\">https://digitaldefynd.com/IQ/how-agentic-ai-will-redefine-jobs/)</span>\n",
       "How Agentic AI Will Redefine Jobs? |<span style=\"color: #008080; text-decoration-color: #008080; font-weight: bold\">2025</span><span style=\"font-weight: bold\">]</span> Automation of Routine Tasks. <span style=\"color: #808000; text-decoration-color: #808000\">...</span> This capacity for remote work widens the\n",
       "job market, allowing companies to access a global talent pool and fostering a more diverse and inclusive workforce.\n",
       "Particularly beneficial for freelancers, these technological advances permit the offering of highly specialized <span style=\"color: #808000; text-decoration-color: #808000\">...</span>\n",
       "\n",
       "|AI trends predicted to hit staffing in <span style=\"color: #008080; text-decoration-color: #008080; font-weight: bold\">2025</span>: report - \n",
       "hr-brew.com<span style=\"font-weight: bold\">](</span><span style=\"color: #0000ff; text-decoration-color: #0000ff; text-decoration: underline\">https://www.hr-brew.com/stories/2025/01/29/ai-agents-job-disruption-and-legal-headaches-trends-likely-</span>\n",
       "<span style=\"color: #0000ff; text-decoration-color: #0000ff; text-decoration: underline\">to-impact-staffing-firms-in-2025)</span>\n",
       "AI had a huge impact on recruitment in <span style=\"color: #008080; text-decoration-color: #008080; font-weight: bold\">2024</span>, and it'll likely continue to disrupt hiring in big ways this year.. \n",
       "The staffing industry, which supplies temporary workers to employers, is expected to feel this acutely, a new \n",
       "report from research and advisory firm Staffing Industry Analysts <span style=\"font-weight: bold\">(</span>SIA<span style=\"font-weight: bold\">)</span> hypothesizes. Advancements in the \n",
       "technology could lead to new use cases—and even the emergence <span style=\"color: #808000; text-decoration-color: #808000\">...</span>\n",
       "\n",
       "|agentic ai: Will AI take your job in <span style=\"color: #008080; text-decoration-color: #008080; font-weight: bold\">2025</span> <span style=\"color: #808000; text-decoration-color: #808000\">...</span> - The Economic \n",
       "Times<span style=\"font-weight: bold\">](</span><span style=\"color: #0000ff; text-decoration-color: #0000ff; text-decoration: underline\">https://economictimes.indiatimes.com/news/international/us/will-ai-take-your-job-in-2025-technology-experts-</span>\n",
       "<span style=\"color: #0000ff; text-decoration-color: #0000ff; text-decoration: underline\">have-this-to-say/articleshow/117215006.cms)</span>\n",
       "How badly can Agentic AI hurt jobs? Agentic AI will be adept in solving complex problems, and other the human \n",
       "touch, it will be able to pull of any task expected from a human. <span style=\"color: #808000; text-decoration-color: #808000\">...</span> NYT Connections Today Feb <span style=\"color: #008080; text-decoration-color: #008080; font-weight: bold\">26</span> Crypto Market \n",
       "Today February <span style=\"color: #008080; text-decoration-color: #008080; font-weight: bold\">26</span> <span style=\"color: #008080; text-decoration-color: #008080; font-weight: bold\">2025</span> Budget <span style=\"color: #008080; text-decoration-color: #008080; font-weight: bold\">2025</span> NYT Strands Today; Wordle answer Hints Today Tax Brackets <span style=\"color: #008080; text-decoration-color: #008080; font-weight: bold\">2025</span> and IRS Tax \n",
       "Refund.\n",
       "\n",
       "|Key Trends for <span style=\"color: #008080; text-decoration-color: #008080; font-weight: bold\">2025</span>: Agentic Al, Workforce Shifts and \n",
       "Regulations<span style=\"font-weight: bold\">](</span><span style=\"color: #0000ff; text-decoration-color: #0000ff; text-decoration: underline\">https://www.seeitmarket.com/key-trends-for-2025-agentic-al-workforce-shifts-and-regulations/)</span>\n",
       "Spending on agentic AI is projected to hit $4B by <span style=\"color: #008080; text-decoration-color: #008080; font-weight: bold\">2028</span>, growing at a <span style=\"color: #008080; text-decoration-color: #008080; font-weight: bold\">68</span>% CAGRai-and-automation-trend…. Companies \n",
       "developing agentic AI infrastructure <span style=\"font-weight: bold\">(</span>think orchestration, governance, and <span style=\"color: #808000; text-decoration-color: #808000\">...</span>\n",
       "\n",
       "|Agentic AI in HR &amp; Recruitment Market Size | CAGR \n",
       "<span style=\"color: #008080; text-decoration-color: #008080; font-weight: bold\">39.3</span>%<span style=\"font-weight: bold\">](</span><span style=\"color: #0000ff; text-decoration-color: #0000ff; text-decoration: underline\">https://market.us/report/agentic-ai-in-hr-recruitment-market/)</span>\n",
       "Report Overview. The Agentic AI in HR &amp; Recruitment Market size is expected to be worth around USD <span style=\"color: #008080; text-decoration-color: #008080; font-weight: bold\">23</span>,<span style=\"color: #008080; text-decoration-color: #008080; font-weight: bold\">172.8</span> Million\n",
       "By <span style=\"color: #008080; text-decoration-color: #008080; font-weight: bold\">2034</span>, from USD <span style=\"color: #008080; text-decoration-color: #008080; font-weight: bold\">842.3</span> Million in <span style=\"color: #008080; text-decoration-color: #008080; font-weight: bold\">2024</span>, growing at a CAGR of <span style=\"color: #008080; text-decoration-color: #008080; font-weight: bold\">39.3</span>% during the forecast period from <span style=\"color: #008080; text-decoration-color: #008080; font-weight: bold\">2025</span> to <span style=\"color: #008080; text-decoration-color: #008080; font-weight: bold\">2034</span>. \n",
       "In <span style=\"color: #008080; text-decoration-color: #008080; font-weight: bold\">2024</span>, North America held a dominant market position, capturing more than a <span style=\"color: #008080; text-decoration-color: #008080; font-weight: bold\">37.1</span>% share, holding USD <span style=\"color: #008080; text-decoration-color: #008080; font-weight: bold\">312.4</span> \n",
       "Million revenue. The Agentic AI market in HR and <span style=\"color: #808000; text-decoration-color: #808000\">...</span>\n",
       "\n",
       "|Silicon Valley's Plan to Automate Everything - The \n",
       "Atlantic<span style=\"font-weight: bold\">](</span><span style=\"color: #0000ff; text-decoration-color: #0000ff; text-decoration: underline\">https://www.theatlantic.com/technology/archive/2025/03/generative-ai-agents/682050/)</span>\n",
       "Last month, Anthropic launched Claude Code, a coding program that can do much of a human software developer's job \n",
       "but far faster, <span style=\"color: #008000; text-decoration-color: #008000\">\"reducing development time and overhead.\"</span> The program <span style=\"color: #808000; text-decoration-color: #808000\">...</span>\n",
       "\n",
       "|Will <span style=\"color: #008080; text-decoration-color: #008080; font-weight: bold\">2025</span> Be the Year Agentic AI Takes Off? - Built \n",
       "In<span style=\"font-weight: bold\">](</span><span style=\"color: #0000ff; text-decoration-color: #0000ff; text-decoration: underline\">https://builtin.com/artificial-intelligence/year-agentic-ai)</span>\n",
       "How AI, Agentic AI and AI Agents Will Impact the Workforce in <span style=\"color: #008080; text-decoration-color: #008080; font-weight: bold\">2025</span> These Industries Will Embrace Agentic AI \n",
       "Immediately. Off the bat, there are a few organizational functions that we predict are best primed to reap the \n",
       "benefits of agentic AI today: recruiting, sales, customer service, marketing and legal departments. Of course, you \n",
       "can apply <span style=\"color: #808000; text-decoration-color: #808000\">...</span>\n",
       "</pre>\n"
      ],
      "text/plain": [
       "Observations: ## Search Results\n",
       "\n",
       "|The Effect of AI Agents on the Job Market in \n",
       "\u001b[1;36m2025\u001b[0m\u001b[1m]\u001b[0m\u001b[1m(\u001b[0m\u001b[4;94mhttps://www.analyticsvidhya.com/blog/2025/01/effect-of-ai-agents-in-the-job-market/\u001b[0m\u001b[4;94m)\u001b[0m\n",
       "In \u001b[1;36m2025\u001b[0m, AI agents will be a major force in reshaping the job market and transforming industries. They will create \n",
       "new opportunities while rendering certain jobs obsolete. The adoption of AI will accelerate, with businesses \n",
       "leveraging AI agents for a range of functions, from customer service and HR to data analysis and beyond.\n",
       "\n",
       "|AI Agents in \u001b[1;36m2025\u001b[0m: Expectations vs. Reality - \n",
       "IBM\u001b[1m]\u001b[0m\u001b[1m(\u001b[0m\u001b[4;94mhttps://www.ibm.com/think/insights/ai-agents-2025-expectations-vs-reality\u001b[0m\u001b[4;94m)\u001b[0m\n",
       "\u001b[32m\"More and better agents\"\u001b[0m are on the way, predicts Time. \u001b[1;36m1\u001b[0m \u001b[32m\"Autonomous 'agents' and profitability are likely to \u001b[0m\n",
       "\u001b[32mdominate the artificial intelligence agenda,\"\u001b[0m reports Reuters. \u001b[1;36m2\u001b[0m \u001b[32m\"The age of agentic AI has arrived,\"\u001b[0m promises \n",
       "Forbes, in response to a claim from Nvidia's Jensen Huang. \u001b[1;36m3\u001b[0m Tech media is awash with assurances that our lives are\n",
       "on the verge of a total transformation.\n",
       "\n",
       "|\u001b[1;36m2025\u001b[0m will be the year of AI agents - \n",
       "TechTarget\u001b[1m]\u001b[0m\u001b[1m(\u001b[0m\u001b[4;94mhttps://www.techtarget.com/searchEnterpriseAI/feature/Next-year-will-be-the-year-of-AI-agents\u001b[0m\u001b[4;94m)\u001b[0m\n",
       "Agentic Challenges in \u001b[1;36m2025\u001b[0m. Similar to other AI technologies, AI agents will face challenges in \u001b[1;36m2025\u001b[0m. One is data. \n",
       "Because data is usually spread across different sources and processes, it might be challenging to give AI agents \n",
       "the data they need to perform the tasks they're being asked to do, Greene said.\n",
       "\n",
       "|How Agentic AI Will Redefine Jobs? |\u001b[1;36m2025\u001b[0m\u001b[1m]\u001b[0m - \n",
       "DigitalDefynd\u001b[1m]\u001b[0m\u001b[1m(\u001b[0m\u001b[4;94mhttps://digitaldefynd.com/IQ/how-agentic-ai-will-redefine-jobs/\u001b[0m\u001b[4;94m)\u001b[0m\n",
       "How Agentic AI Will Redefine Jobs? |\u001b[1;36m2025\u001b[0m\u001b[1m]\u001b[0m Automation of Routine Tasks. \u001b[33m...\u001b[0m This capacity for remote work widens the\n",
       "job market, allowing companies to access a global talent pool and fostering a more diverse and inclusive workforce.\n",
       "Particularly beneficial for freelancers, these technological advances permit the offering of highly specialized \u001b[33m...\u001b[0m\n",
       "\n",
       "|AI trends predicted to hit staffing in \u001b[1;36m2025\u001b[0m: report - \n",
       "hr-brew.com\u001b[1m]\u001b[0m\u001b[1m(\u001b[0m\u001b[4;94mhttps://www.hr-brew.com/stories/2025/01/29/ai-agents-job-disruption-and-legal-headaches-trends-likely-\u001b[0m\n",
       "\u001b[4;94mto-impact-staffing-firms-in-2025\u001b[0m\u001b[4;94m)\u001b[0m\n",
       "AI had a huge impact on recruitment in \u001b[1;36m2024\u001b[0m, and it'll likely continue to disrupt hiring in big ways this year.. \n",
       "The staffing industry, which supplies temporary workers to employers, is expected to feel this acutely, a new \n",
       "report from research and advisory firm Staffing Industry Analysts \u001b[1m(\u001b[0mSIA\u001b[1m)\u001b[0m hypothesizes. Advancements in the \n",
       "technology could lead to new use cases—and even the emergence \u001b[33m...\u001b[0m\n",
       "\n",
       "|agentic ai: Will AI take your job in \u001b[1;36m2025\u001b[0m \u001b[33m...\u001b[0m - The Economic \n",
       "Times\u001b[1m]\u001b[0m\u001b[1m(\u001b[0m\u001b[4;94mhttps://economictimes.indiatimes.com/news/international/us/will-ai-take-your-job-in-2025-technology-experts-\u001b[0m\n",
       "\u001b[4;94mhave-this-to-say/articleshow/117215006.cms\u001b[0m\u001b[4;94m)\u001b[0m\n",
       "How badly can Agentic AI hurt jobs? Agentic AI will be adept in solving complex problems, and other the human \n",
       "touch, it will be able to pull of any task expected from a human. \u001b[33m...\u001b[0m NYT Connections Today Feb \u001b[1;36m26\u001b[0m Crypto Market \n",
       "Today February \u001b[1;36m26\u001b[0m \u001b[1;36m2025\u001b[0m Budget \u001b[1;36m2025\u001b[0m NYT Strands Today; Wordle answer Hints Today Tax Brackets \u001b[1;36m2025\u001b[0m and IRS Tax \n",
       "Refund.\n",
       "\n",
       "|Key Trends for \u001b[1;36m2025\u001b[0m: Agentic Al, Workforce Shifts and \n",
       "Regulations\u001b[1m]\u001b[0m\u001b[1m(\u001b[0m\u001b[4;94mhttps://www.seeitmarket.com/key-trends-for-2025-agentic-al-workforce-shifts-and-regulations/\u001b[0m\u001b[4;94m)\u001b[0m\n",
       "Spending on agentic AI is projected to hit $4B by \u001b[1;36m2028\u001b[0m, growing at a \u001b[1;36m68\u001b[0m% CAGRai-and-automation-trend…. Companies \n",
       "developing agentic AI infrastructure \u001b[1m(\u001b[0mthink orchestration, governance, and \u001b[33m...\u001b[0m\n",
       "\n",
       "|Agentic AI in HR & Recruitment Market Size | CAGR \n",
       "\u001b[1;36m39.3\u001b[0m%\u001b[1m]\u001b[0m\u001b[1m(\u001b[0m\u001b[4;94mhttps://market.us/report/agentic-ai-in-hr-recruitment-market/\u001b[0m\u001b[4;94m)\u001b[0m\n",
       "Report Overview. The Agentic AI in HR & Recruitment Market size is expected to be worth around USD \u001b[1;36m23\u001b[0m,\u001b[1;36m172.8\u001b[0m Million\n",
       "By \u001b[1;36m2034\u001b[0m, from USD \u001b[1;36m842.3\u001b[0m Million in \u001b[1;36m2024\u001b[0m, growing at a CAGR of \u001b[1;36m39.3\u001b[0m% during the forecast period from \u001b[1;36m2025\u001b[0m to \u001b[1;36m2034\u001b[0m. \n",
       "In \u001b[1;36m2024\u001b[0m, North America held a dominant market position, capturing more than a \u001b[1;36m37.1\u001b[0m% share, holding USD \u001b[1;36m312.4\u001b[0m \n",
       "Million revenue. The Agentic AI market in HR and \u001b[33m...\u001b[0m\n",
       "\n",
       "|Silicon Valley's Plan to Automate Everything - The \n",
       "Atlantic\u001b[1m]\u001b[0m\u001b[1m(\u001b[0m\u001b[4;94mhttps://www.theatlantic.com/technology/archive/2025/03/generative-ai-agents/682050/\u001b[0m\u001b[4;94m)\u001b[0m\n",
       "Last month, Anthropic launched Claude Code, a coding program that can do much of a human software developer's job \n",
       "but far faster, \u001b[32m\"reducing development time and overhead.\"\u001b[0m The program \u001b[33m...\u001b[0m\n",
       "\n",
       "|Will \u001b[1;36m2025\u001b[0m Be the Year Agentic AI Takes Off? - Built \n",
       "In\u001b[1m]\u001b[0m\u001b[1m(\u001b[0m\u001b[4;94mhttps://builtin.com/artificial-intelligence/year-agentic-ai\u001b[0m\u001b[4;94m)\u001b[0m\n",
       "How AI, Agentic AI and AI Agents Will Impact the Workforce in \u001b[1;36m2025\u001b[0m These Industries Will Embrace Agentic AI \n",
       "Immediately. Off the bat, there are a few organizational functions that we predict are best primed to reap the \n",
       "benefits of agentic AI today: recruiting, sales, customer service, marketing and legal departments. Of course, you \n",
       "can apply \u001b[33m...\u001b[0m\n"
      ]
     },
     "metadata": {},
     "output_type": "display_data"
    },
    {
     "data": {
      "text/html": [
       "<pre style=\"white-space:pre;overflow-x:auto;line-height:normal;font-family:Menlo,'DejaVu Sans Mono',consolas,'Courier New',monospace\"><span style=\"color: #7f7f7f; text-decoration-color: #7f7f7f\">[Step 1: Duration 7.10 seconds| Input tokens: 1,169 | Output tokens: 30]</span>\n",
       "</pre>\n"
      ],
      "text/plain": [
       "\u001b[2m[Step 1: Duration 7.10 seconds| Input tokens: 1,169 | Output tokens: 30]\u001b[0m\n"
      ]
     },
     "metadata": {},
     "output_type": "display_data"
    },
    {
     "data": {
      "text/html": [
       "<pre style=\"white-space:pre;overflow-x:auto;line-height:normal;font-family:Menlo,'DejaVu Sans Mono',consolas,'Courier New',monospace\"><span style=\"color: #d4b702; text-decoration-color: #d4b702\">━━━━━━━━━━━━━━━━━━━━━━━━━━━━━━━━━━━━━━━━━━━━━━━━━━━━━ </span><span style=\"font-weight: bold\">Step </span><span style=\"color: #008080; text-decoration-color: #008080; font-weight: bold\">2</span><span style=\"color: #d4b702; text-decoration-color: #d4b702\"> ━━━━━━━━━━━━━━━━━━━━━━━━━━━━━━━━━━━━━━━━━━━━━━━━━━━━━━</span>\n",
       "</pre>\n"
      ],
      "text/plain": [
       "\u001b[38;2;212;183;2m━━━━━━━━━━━━━━━━━━━━━━━━━━━━━━━━━━━━━━━━━━━━━━━━━━━━━ \u001b[0m\u001b[1mStep \u001b[0m\u001b[1;36m2\u001b[0m\u001b[38;2;212;183;2m ━━━━━━━━━━━━━━━━━━━━━━━━━━━━━━━━━━━━━━━━━━━━━━━━━━━━━━\u001b[0m\n"
      ]
     },
     "metadata": {},
     "output_type": "display_data"
    },
    {
     "data": {
      "text/html": [
       "<pre style=\"white-space:pre;overflow-x:auto;line-height:normal;font-family:Menlo,'DejaVu Sans Mono',consolas,'Courier New',monospace\">╭─────────────────────────────────────────────────────────────────────────────────────────────────────────────────╮\n",
       "│ Calling tool: 'final_answer' with arguments: {'answer': 'The agentic job market in 2025 is expected to be       │\n",
       "│ significantly influenced by AI agents, which will create new opportunities while making certain jobs obsolete.  │\n",
       "│ These agents will be adopted for tasks ranging from customer service and HR to data analysis, and they are      │\n",
       "│ anticipated to drive a shift towards automation of routine tasks, remote work, and accessing a global talent    │\n",
       "│ pool. While the technology is expected to bring efficiency and profitability, challenges such as data           │\n",
       "│ management will need to be addressed. The AI agentic market in HR and recruitment is projected to grow rapidly, │\n",
       "│ with a CAGR of 39. 3% from 2025 to 2034.'}                                                                      │\n",
       "╰─────────────────────────────────────────────────────────────────────────────────────────────────────────────────╯\n",
       "</pre>\n"
      ],
      "text/plain": [
       "╭─────────────────────────────────────────────────────────────────────────────────────────────────────────────────╮\n",
       "│ Calling tool: 'final_answer' with arguments: {'answer': 'The agentic job market in 2025 is expected to be       │\n",
       "│ significantly influenced by AI agents, which will create new opportunities while making certain jobs obsolete.  │\n",
       "│ These agents will be adopted for tasks ranging from customer service and HR to data analysis, and they are      │\n",
       "│ anticipated to drive a shift towards automation of routine tasks, remote work, and accessing a global talent    │\n",
       "│ pool. While the technology is expected to bring efficiency and profitability, challenges such as data           │\n",
       "│ management will need to be addressed. The AI agentic market in HR and recruitment is projected to grow rapidly, │\n",
       "│ with a CAGR of 39. 3% from 2025 to 2034.'}                                                                      │\n",
       "╰─────────────────────────────────────────────────────────────────────────────────────────────────────────────────╯\n"
      ]
     },
     "metadata": {},
     "output_type": "display_data"
    },
    {
     "data": {
      "text/html": [
       "<pre style=\"white-space:pre;overflow-x:auto;line-height:normal;font-family:Menlo,'DejaVu Sans Mono',consolas,'Courier New',monospace\"><span style=\"color: #d4b702; text-decoration-color: #d4b702; font-weight: bold\">Final answer: The agentic job market in 2025 is expected to be significantly influenced by AI agents, which will </span>\n",
       "<span style=\"color: #d4b702; text-decoration-color: #d4b702; font-weight: bold\">create new opportunities while making certain jobs obsolete. These agents will be adopted for tasks ranging from </span>\n",
       "<span style=\"color: #d4b702; text-decoration-color: #d4b702; font-weight: bold\">customer service and HR to data analysis, and they are anticipated to drive a shift towards automation of routine </span>\n",
       "<span style=\"color: #d4b702; text-decoration-color: #d4b702; font-weight: bold\">tasks, remote work, and accessing a global talent pool. While the technology is expected to bring efficiency and </span>\n",
       "<span style=\"color: #d4b702; text-decoration-color: #d4b702; font-weight: bold\">profitability, challenges such as data management will need to be addressed. The AI agentic market in HR and </span>\n",
       "<span style=\"color: #d4b702; text-decoration-color: #d4b702; font-weight: bold\">recruitment is projected to grow rapidly, with a CAGR of 39. 3% from 2025 to 2034.</span>\n",
       "</pre>\n"
      ],
      "text/plain": [
       "\u001b[1;38;2;212;183;2mFinal answer: The agentic job market in 2025 is expected to be significantly influenced by AI agents, which will \u001b[0m\n",
       "\u001b[1;38;2;212;183;2mcreate new opportunities while making certain jobs obsolete. These agents will be adopted for tasks ranging from \u001b[0m\n",
       "\u001b[1;38;2;212;183;2mcustomer service and HR to data analysis, and they are anticipated to drive a shift towards automation of routine \u001b[0m\n",
       "\u001b[1;38;2;212;183;2mtasks, remote work, and accessing a global talent pool. While the technology is expected to bring efficiency and \u001b[0m\n",
       "\u001b[1;38;2;212;183;2mprofitability, challenges such as data management will need to be addressed. The AI agentic market in HR and \u001b[0m\n",
       "\u001b[1;38;2;212;183;2mrecruitment is projected to grow rapidly, with a CAGR of 39. 3% from 2025 to 2034.\u001b[0m\n"
      ]
     },
     "metadata": {},
     "output_type": "display_data"
    },
    {
     "data": {
      "text/html": [
       "<pre style=\"white-space:pre;overflow-x:auto;line-height:normal;font-family:Menlo,'DejaVu Sans Mono',consolas,'Courier New',monospace\"><span style=\"color: #7f7f7f; text-decoration-color: #7f7f7f\">[Step 2: Duration 17.48 seconds| Input tokens: 3,641 | Output tokens: 184]</span>\n",
       "</pre>\n"
      ],
      "text/plain": [
       "\u001b[2m[Step 2: Duration 17.48 seconds| Input tokens: 3,641 | Output tokens: 184]\u001b[0m\n"
      ]
     },
     "metadata": {},
     "output_type": "display_data"
    },
    {
     "data": {
      "text/plain": [
       "'The agentic job market in 2025 is expected to be significantly influenced by AI agents, which will create new opportunities while making certain jobs obsolete. These agents will be adopted for tasks ranging from customer service and HR to data analysis, and they are anticipated to drive a shift towards automation of routine tasks, remote work, and accessing a global talent pool. While the technology is expected to bring efficiency and profitability, challenges such as data management will need to be addressed. The AI agentic market in HR and recruitment is projected to grow rapidly, with a CAGR of 39. 3% from 2025 to 2034.'"
      ]
     },
     "execution_count": 11,
     "metadata": {},
     "output_type": "execute_result"
    }
   ],
   "source": [
    "tool_agent.run('agentic job market in 2025')"
   ]
  },
  {
   "cell_type": "code",
   "execution_count": null,
   "metadata": {},
   "outputs": [],
   "source": []
  }
 ],
 "metadata": {
  "kernelspec": {
   "display_name": "base",
   "language": "python",
   "name": "python3"
  },
  "language_info": {
   "codemirror_mode": {
    "name": "ipython",
    "version": 3
   },
   "file_extension": ".py",
   "mimetype": "text/x-python",
   "name": "python",
   "nbconvert_exporter": "python",
   "pygments_lexer": "ipython3",
   "version": "3.12.4"
  }
 },
 "nbformat": 4,
 "nbformat_minor": 2
}
